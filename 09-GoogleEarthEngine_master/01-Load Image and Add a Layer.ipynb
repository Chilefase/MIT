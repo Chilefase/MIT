{
 "cells": [
  {
   "cell_type": "markdown",
   "metadata": {},
   "source": [
    "# Exercise 1 - Load Image and Add a Layer\n",
    "## https://developers.google.com/earth-engine/guides/image_visualization#colab-python_2 "
   ]
  },
  {
   "cell_type": "code",
   "execution_count": 3,
   "metadata": {},
   "outputs": [
    {
     "data": {
      "text/html": [
       "<p>To authorize access needed by Earth Engine, open the following\n",
       "        URL in a web browser and follow the instructions:</p>\n",
       "        <p><a href=https://accounts.google.com/o/oauth2/auth?client_id=517222506229-vsmmajv00ul0bs7p89v5m89qs8eb9359.apps.googleusercontent.com&scope=https%3A%2F%2Fwww.googleapis.com%2Fauth%2Fearthengine+https%3A%2F%2Fwww.googleapis.com%2Fauth%2Fdevstorage.full_control&redirect_uri=urn%3Aietf%3Awg%3Aoauth%3A2.0%3Aoob&response_type=code&code_challenge=7nFWYobSqgUmiq_ZThdw-rNK2PVQxu2e5AEm0T0XzQw&code_challenge_method=S256>https://accounts.google.com/o/oauth2/auth?client_id=517222506229-vsmmajv00ul0bs7p89v5m89qs8eb9359.apps.googleusercontent.com&scope=https%3A%2F%2Fwww.googleapis.com%2Fauth%2Fearthengine+https%3A%2F%2Fwww.googleapis.com%2Fauth%2Fdevstorage.full_control&redirect_uri=urn%3Aietf%3Awg%3Aoauth%3A2.0%3Aoob&response_type=code&code_challenge=7nFWYobSqgUmiq_ZThdw-rNK2PVQxu2e5AEm0T0XzQw&code_challenge_method=S256</a></p>\n",
       "        <p>The authorization workflow will generate a code, which you\n",
       "        should paste in the box below</p>\n",
       "        "
      ],
      "text/plain": [
       "<IPython.core.display.HTML object>"
      ]
     },
     "metadata": {},
     "output_type": "display_data"
    },
    {
     "name": "stdout",
     "output_type": "stream",
     "text": [
      "\n",
      "Successfully saved authorization token.\n"
     ]
    },
    {
     "ename": "AttributeError",
     "evalue": "module 'collections' has no attribute 'Callable'",
     "output_type": "error",
     "traceback": [
      "\u001b[1;31m---------------------------------------------------------------------------\u001b[0m",
      "\u001b[1;31mAttributeError\u001b[0m                            Traceback (most recent call last)",
      "\u001b[1;32mg:\\My Drive\\12. CODE\\MIT\\09-GoogleEarthEngine_master\\01-Load Image and Add a Layer.ipynb Cell 2'\u001b[0m in \u001b[0;36m<module>\u001b[1;34m\u001b[0m\n\u001b[0;32m      <a href='vscode-notebook-cell:/g%3A/My%20Drive/12.%20CODE/MIT/09-GoogleEarthEngine_master/01-Load%20Image%20and%20Add%20a%20Layer.ipynb#ch0000005?line=3'>4</a>\u001b[0m ee\u001b[39m.\u001b[39mAuthenticate()\n\u001b[0;32m      <a href='vscode-notebook-cell:/g%3A/My%20Drive/12.%20CODE/MIT/09-GoogleEarthEngine_master/01-Load%20Image%20and%20Add%20a%20Layer.ipynb#ch0000005?line=5'>6</a>\u001b[0m \u001b[39m# Initialize the library.\u001b[39;00m\n\u001b[1;32m----> <a href='vscode-notebook-cell:/g%3A/My%20Drive/12.%20CODE/MIT/09-GoogleEarthEngine_master/01-Load%20Image%20and%20Add%20a%20Layer.ipynb#ch0000005?line=6'>7</a>\u001b[0m ee\u001b[39m.\u001b[39;49mInitialize()\n",
      "File \u001b[1;32m~\\AppData\\Local\\Programs\\Python\\Python310\\lib\\site-packages\\ee\\__init__.py:116\u001b[0m, in \u001b[0;36mInitialize\u001b[1;34m(credentials, opt_url, cloud_api_key, http_transport, project)\u001b[0m\n\u001b[0;32m    <a href='file:///c%3A/Users/Francisco/AppData/Local/Programs/Python/Python310/lib/site-packages/ee/__init__.py?line=113'>114</a>\u001b[0m \u001b[39mif\u001b[39;00m credentials \u001b[39m==\u001b[39m \u001b[39m'\u001b[39m\u001b[39mpersistent\u001b[39m\u001b[39m'\u001b[39m:\n\u001b[0;32m    <a href='file:///c%3A/Users/Francisco/AppData/Local/Programs/Python/Python310/lib/site-packages/ee/__init__.py?line=114'>115</a>\u001b[0m   credentials \u001b[39m=\u001b[39m data\u001b[39m.\u001b[39mget_persistent_credentials()\n\u001b[1;32m--> <a href='file:///c%3A/Users/Francisco/AppData/Local/Programs/Python/Python310/lib/site-packages/ee/__init__.py?line=115'>116</a>\u001b[0m data\u001b[39m.\u001b[39;49minitialize(\n\u001b[0;32m    <a href='file:///c%3A/Users/Francisco/AppData/Local/Programs/Python/Python310/lib/site-packages/ee/__init__.py?line=116'>117</a>\u001b[0m     credentials\u001b[39m=\u001b[39;49mcredentials,\n\u001b[0;32m    <a href='file:///c%3A/Users/Francisco/AppData/Local/Programs/Python/Python310/lib/site-packages/ee/__init__.py?line=117'>118</a>\u001b[0m     api_base_url\u001b[39m=\u001b[39;49m(opt_url \u001b[39m+\u001b[39;49m \u001b[39m'\u001b[39;49m\u001b[39m/api\u001b[39;49m\u001b[39m'\u001b[39;49m \u001b[39mif\u001b[39;49;00m opt_url \u001b[39melse\u001b[39;49;00m \u001b[39mNone\u001b[39;49;00m),\n\u001b[0;32m    <a href='file:///c%3A/Users/Francisco/AppData/Local/Programs/Python/Python310/lib/site-packages/ee/__init__.py?line=118'>119</a>\u001b[0m     tile_base_url\u001b[39m=\u001b[39;49mopt_url,\n\u001b[0;32m    <a href='file:///c%3A/Users/Francisco/AppData/Local/Programs/Python/Python310/lib/site-packages/ee/__init__.py?line=119'>120</a>\u001b[0m     cloud_api_base_url\u001b[39m=\u001b[39;49mopt_url,\n\u001b[0;32m    <a href='file:///c%3A/Users/Francisco/AppData/Local/Programs/Python/Python310/lib/site-packages/ee/__init__.py?line=120'>121</a>\u001b[0m     cloud_api_key\u001b[39m=\u001b[39;49mcloud_api_key,\n\u001b[0;32m    <a href='file:///c%3A/Users/Francisco/AppData/Local/Programs/Python/Python310/lib/site-packages/ee/__init__.py?line=121'>122</a>\u001b[0m     project\u001b[39m=\u001b[39;49mproject,\n\u001b[0;32m    <a href='file:///c%3A/Users/Francisco/AppData/Local/Programs/Python/Python310/lib/site-packages/ee/__init__.py?line=122'>123</a>\u001b[0m     http_transport\u001b[39m=\u001b[39;49mhttp_transport)\n\u001b[0;32m    <a href='file:///c%3A/Users/Francisco/AppData/Local/Programs/Python/Python310/lib/site-packages/ee/__init__.py?line=123'>124</a>\u001b[0m \u001b[39m# Initialize the dynamically loaded functions on the objects that want them.\u001b[39;00m\n\u001b[0;32m    <a href='file:///c%3A/Users/Francisco/AppData/Local/Programs/Python/Python310/lib/site-packages/ee/__init__.py?line=124'>125</a>\u001b[0m ApiFunction\u001b[39m.\u001b[39minitialize()\n",
      "File \u001b[1;32m~\\AppData\\Local\\Programs\\Python\\Python310\\lib\\site-packages\\ee\\data.py:203\u001b[0m, in \u001b[0;36minitialize\u001b[1;34m(credentials, api_base_url, tile_base_url, cloud_api_base_url, cloud_api_key, project, http_transport)\u001b[0m\n\u001b[0;32m    <a href='file:///c%3A/Users/Francisco/AppData/Local/Programs/Python/Python310/lib/site-packages/ee/data.py?line=198'>199</a>\u001b[0m   _cloud_api_client_version \u001b[39m=\u001b[39m version\n\u001b[0;32m    <a href='file:///c%3A/Users/Francisco/AppData/Local/Programs/Python/Python310/lib/site-packages/ee/data.py?line=200'>201</a>\u001b[0m _http_transport \u001b[39m=\u001b[39m http_transport\n\u001b[1;32m--> <a href='file:///c%3A/Users/Francisco/AppData/Local/Programs/Python/Python310/lib/site-packages/ee/data.py?line=202'>203</a>\u001b[0m _install_cloud_api_resource()\n\u001b[0;32m    <a href='file:///c%3A/Users/Francisco/AppData/Local/Programs/Python/Python310/lib/site-packages/ee/data.py?line=204'>205</a>\u001b[0m \u001b[39mif\u001b[39;00m project \u001b[39mis\u001b[39;00m \u001b[39mnot\u001b[39;00m \u001b[39mNone\u001b[39;00m:\n\u001b[0;32m    <a href='file:///c%3A/Users/Francisco/AppData/Local/Programs/Python/Python310/lib/site-packages/ee/data.py?line=205'>206</a>\u001b[0m   _cloud_api_user_project \u001b[39m=\u001b[39m project\n",
      "File \u001b[1;32m~\\AppData\\Local\\Programs\\Python\\Python310\\lib\\site-packages\\ee\\data.py:262\u001b[0m, in \u001b[0;36m_install_cloud_api_resource\u001b[1;34m()\u001b[0m\n\u001b[0;32m    <a href='file:///c%3A/Users/Francisco/AppData/Local/Programs/Python/Python310/lib/site-packages/ee/data.py?line=258'>259</a>\u001b[0m \u001b[39mglobal\u001b[39;00m _http_transport\n\u001b[0;32m    <a href='file:///c%3A/Users/Francisco/AppData/Local/Programs/Python/Python310/lib/site-packages/ee/data.py?line=260'>261</a>\u001b[0m timeout \u001b[39m=\u001b[39m (_deadline_ms \u001b[39m/\u001b[39m \u001b[39m1000.0\u001b[39m) \u001b[39mor\u001b[39;00m \u001b[39mNone\u001b[39;00m\n\u001b[1;32m--> <a href='file:///c%3A/Users/Francisco/AppData/Local/Programs/Python/Python310/lib/site-packages/ee/data.py?line=261'>262</a>\u001b[0m _cloud_api_resource \u001b[39m=\u001b[39m _cloud_api_utils\u001b[39m.\u001b[39;49mbuild_cloud_resource(\n\u001b[0;32m    <a href='file:///c%3A/Users/Francisco/AppData/Local/Programs/Python/Python310/lib/site-packages/ee/data.py?line=262'>263</a>\u001b[0m     _cloud_api_base_url,\n\u001b[0;32m    <a href='file:///c%3A/Users/Francisco/AppData/Local/Programs/Python/Python310/lib/site-packages/ee/data.py?line=263'>264</a>\u001b[0m     credentials\u001b[39m=\u001b[39;49m_credentials,\n\u001b[0;32m    <a href='file:///c%3A/Users/Francisco/AppData/Local/Programs/Python/Python310/lib/site-packages/ee/data.py?line=264'>265</a>\u001b[0m     api_key\u001b[39m=\u001b[39;49m_cloud_api_key,\n\u001b[0;32m    <a href='file:///c%3A/Users/Francisco/AppData/Local/Programs/Python/Python310/lib/site-packages/ee/data.py?line=265'>266</a>\u001b[0m     timeout\u001b[39m=\u001b[39;49mtimeout,\n\u001b[0;32m    <a href='file:///c%3A/Users/Francisco/AppData/Local/Programs/Python/Python310/lib/site-packages/ee/data.py?line=266'>267</a>\u001b[0m     headers_supplier\u001b[39m=\u001b[39;49m_make_request_headers,\n\u001b[0;32m    <a href='file:///c%3A/Users/Francisco/AppData/Local/Programs/Python/Python310/lib/site-packages/ee/data.py?line=267'>268</a>\u001b[0m     response_inspector\u001b[39m=\u001b[39;49m_handle_profiling_response,\n\u001b[0;32m    <a href='file:///c%3A/Users/Francisco/AppData/Local/Programs/Python/Python310/lib/site-packages/ee/data.py?line=268'>269</a>\u001b[0m     http_transport\u001b[39m=\u001b[39;49m_http_transport)\n\u001b[0;32m    <a href='file:///c%3A/Users/Francisco/AppData/Local/Programs/Python/Python310/lib/site-packages/ee/data.py?line=270'>271</a>\u001b[0m _cloud_api_resource_raw \u001b[39m=\u001b[39m _cloud_api_utils\u001b[39m.\u001b[39mbuild_cloud_resource(\n\u001b[0;32m    <a href='file:///c%3A/Users/Francisco/AppData/Local/Programs/Python/Python310/lib/site-packages/ee/data.py?line=271'>272</a>\u001b[0m     _cloud_api_base_url,\n\u001b[0;32m    <a href='file:///c%3A/Users/Francisco/AppData/Local/Programs/Python/Python310/lib/site-packages/ee/data.py?line=272'>273</a>\u001b[0m     credentials\u001b[39m=\u001b[39m_credentials,\n\u001b[1;32m   (...)\u001b[0m\n\u001b[0;32m    <a href='file:///c%3A/Users/Francisco/AppData/Local/Programs/Python/Python310/lib/site-packages/ee/data.py?line=277'>278</a>\u001b[0m     http_transport\u001b[39m=\u001b[39m_http_transport,\n\u001b[0;32m    <a href='file:///c%3A/Users/Francisco/AppData/Local/Programs/Python/Python310/lib/site-packages/ee/data.py?line=278'>279</a>\u001b[0m     raw\u001b[39m=\u001b[39m\u001b[39mTrue\u001b[39;00m)\n",
      "File \u001b[1;32m~\\AppData\\Local\\Programs\\Python\\Python310\\lib\\site-packages\\ee\\_cloud_api_utils.py:134\u001b[0m, in \u001b[0;36mbuild_cloud_resource\u001b[1;34m(api_base_url, api_key, credentials, timeout, headers_supplier, response_inspector, http_transport, raw)\u001b[0m\n\u001b[0;32m    <a href='file:///c%3A/Users/Francisco/AppData/Local/Programs/Python/Python310/lib/site-packages/ee/_cloud_api_utils.py?line=129'>130</a>\u001b[0m discovery_service_url \u001b[39m=\u001b[39m (\n\u001b[0;32m    <a href='file:///c%3A/Users/Francisco/AppData/Local/Programs/Python/Python310/lib/site-packages/ee/_cloud_api_utils.py?line=130'>131</a>\u001b[0m     \u001b[39m'\u001b[39m\u001b[39m{}\u001b[39;00m\u001b[39m/$discovery/rest?version=\u001b[39m\u001b[39m{}\u001b[39;00m\u001b[39m&prettyPrint=false\u001b[39m\u001b[39m'\u001b[39m\n\u001b[0;32m    <a href='file:///c%3A/Users/Francisco/AppData/Local/Programs/Python/Python310/lib/site-packages/ee/_cloud_api_utils.py?line=131'>132</a>\u001b[0m     \u001b[39m.\u001b[39mformat(api_base_url, VERSION))\n\u001b[0;32m    <a href='file:///c%3A/Users/Francisco/AppData/Local/Programs/Python/Python310/lib/site-packages/ee/_cloud_api_utils.py?line=132'>133</a>\u001b[0m \u001b[39mif\u001b[39;00m http_transport \u001b[39mis\u001b[39;00m \u001b[39mNone\u001b[39;00m:\n\u001b[1;32m--> <a href='file:///c%3A/Users/Francisco/AppData/Local/Programs/Python/Python310/lib/site-packages/ee/_cloud_api_utils.py?line=133'>134</a>\u001b[0m   http_transport \u001b[39m=\u001b[39m httplib2\u001b[39m.\u001b[39;49mHttp(timeout\u001b[39m=\u001b[39;49mtimeout)\n\u001b[0;32m    <a href='file:///c%3A/Users/Francisco/AppData/Local/Programs/Python/Python310/lib/site-packages/ee/_cloud_api_utils.py?line=134'>135</a>\u001b[0m \u001b[39mif\u001b[39;00m credentials \u001b[39mis\u001b[39;00m \u001b[39mnot\u001b[39;00m \u001b[39mNone\u001b[39;00m:\n\u001b[0;32m    <a href='file:///c%3A/Users/Francisco/AppData/Local/Programs/Python/Python310/lib/site-packages/ee/_cloud_api_utils.py?line=135'>136</a>\u001b[0m   http_transport \u001b[39m=\u001b[39m AuthorizedHttp(credentials, http\u001b[39m=\u001b[39mhttp_transport)\n",
      "File \u001b[1;32m~\\AppData\\Local\\Programs\\Python\\Python310\\lib\\site-packages\\httplib2shim\\__init__.py:117\u001b[0m, in \u001b[0;36mHttp.__init__\u001b[1;34m(self, cache, timeout, proxy_info, ca_certs, disable_ssl_certificate_validation, pool)\u001b[0m\n\u001b[0;32m    <a href='file:///c%3A/Users/Francisco/AppData/Local/Programs/Python/Python310/lib/site-packages/httplib2shim/__init__.py?line=108'>109</a>\u001b[0m \u001b[39msuper\u001b[39m(Http, \u001b[39mself\u001b[39m)\u001b[39m.\u001b[39m\u001b[39m__init__\u001b[39m(\n\u001b[0;32m    <a href='file:///c%3A/Users/Francisco/AppData/Local/Programs/Python/Python310/lib/site-packages/httplib2shim/__init__.py?line=109'>110</a>\u001b[0m     cache\u001b[39m=\u001b[39mcache,\n\u001b[0;32m    <a href='file:///c%3A/Users/Francisco/AppData/Local/Programs/Python/Python310/lib/site-packages/httplib2shim/__init__.py?line=110'>111</a>\u001b[0m     timeout\u001b[39m=\u001b[39mtimeout,\n\u001b[0;32m    <a href='file:///c%3A/Users/Francisco/AppData/Local/Programs/Python/Python310/lib/site-packages/httplib2shim/__init__.py?line=111'>112</a>\u001b[0m     proxy_info\u001b[39m=\u001b[39mproxy_info,\n\u001b[0;32m    <a href='file:///c%3A/Users/Francisco/AppData/Local/Programs/Python/Python310/lib/site-packages/httplib2shim/__init__.py?line=112'>113</a>\u001b[0m     ca_certs\u001b[39m=\u001b[39mca_certs,\n\u001b[0;32m    <a href='file:///c%3A/Users/Francisco/AppData/Local/Programs/Python/Python310/lib/site-packages/httplib2shim/__init__.py?line=113'>114</a>\u001b[0m     disable_ssl_certificate_validation\u001b[39m=\u001b[39mdisable_ssl)\n\u001b[0;32m    <a href='file:///c%3A/Users/Francisco/AppData/Local/Programs/Python/Python310/lib/site-packages/httplib2shim/__init__.py?line=115'>116</a>\u001b[0m \u001b[39mif\u001b[39;00m \u001b[39mnot\u001b[39;00m pool:\n\u001b[1;32m--> <a href='file:///c%3A/Users/Francisco/AppData/Local/Programs/Python/Python310/lib/site-packages/httplib2shim/__init__.py?line=116'>117</a>\u001b[0m     pool \u001b[39m=\u001b[39m \u001b[39mself\u001b[39;49m\u001b[39m.\u001b[39;49m_make_pool(proxy_info\u001b[39m=\u001b[39;49mproxy_info)\n\u001b[0;32m    <a href='file:///c%3A/Users/Francisco/AppData/Local/Programs/Python/Python310/lib/site-packages/httplib2shim/__init__.py?line=118'>119</a>\u001b[0m \u001b[39mself\u001b[39m\u001b[39m.\u001b[39mpool \u001b[39m=\u001b[39m pool\n",
      "File \u001b[1;32m~\\AppData\\Local\\Programs\\Python\\Python310\\lib\\site-packages\\httplib2shim\\__init__.py:45\u001b[0m, in \u001b[0;36m_default_make_pool\u001b[1;34m(http, proxy_info)\u001b[0m\n\u001b[0;32m     <a href='file:///c%3A/Users/Francisco/AppData/Local/Programs/Python/Python310/lib/site-packages/httplib2shim/__init__.py?line=40'>41</a>\u001b[0m ssl_disabled \u001b[39m=\u001b[39m http\u001b[39m.\u001b[39mdisable_ssl_certificate_validation\n\u001b[0;32m     <a href='file:///c%3A/Users/Francisco/AppData/Local/Programs/Python/Python310/lib/site-packages/httplib2shim/__init__.py?line=42'>43</a>\u001b[0m cert_reqs \u001b[39m=\u001b[39m \u001b[39m'\u001b[39m\u001b[39mCERT_REQUIRED\u001b[39m\u001b[39m'\u001b[39m \u001b[39mif\u001b[39;00m http\u001b[39m.\u001b[39mca_certs \u001b[39mand\u001b[39;00m \u001b[39mnot\u001b[39;00m ssl_disabled \u001b[39melse\u001b[39;00m \u001b[39mNone\u001b[39;00m\n\u001b[1;32m---> <a href='file:///c%3A/Users/Francisco/AppData/Local/Programs/Python/Python310/lib/site-packages/httplib2shim/__init__.py?line=44'>45</a>\u001b[0m \u001b[39mif\u001b[39;00m \u001b[39misinstance\u001b[39m(proxy_info, collections\u001b[39m.\u001b[39;49mCallable):\n\u001b[0;32m     <a href='file:///c%3A/Users/Francisco/AppData/Local/Programs/Python/Python310/lib/site-packages/httplib2shim/__init__.py?line=45'>46</a>\u001b[0m     proxy_info \u001b[39m=\u001b[39m proxy_info()\n\u001b[0;32m     <a href='file:///c%3A/Users/Francisco/AppData/Local/Programs/Python/Python310/lib/site-packages/httplib2shim/__init__.py?line=46'>47</a>\u001b[0m \u001b[39mif\u001b[39;00m proxy_info:\n",
      "\u001b[1;31mAttributeError\u001b[0m: module 'collections' has no attribute 'Callable'"
     ]
    }
   ],
   "source": [
    "import ee\n",
    "import folium\n",
    "# Trigger the authentication flow.\n",
    "ee.Authenticate()\n",
    "\n",
    "# Initialize the library.\n",
    "ee.Initialize()"
   ]
  },
  {
   "cell_type": "code",
   "execution_count": 2,
   "metadata": {},
   "outputs": [
    {
     "ename": "NameError",
     "evalue": "name 'folium' is not defined",
     "output_type": "error",
     "traceback": [
      "\u001b[1;31m---------------------------------------------------------------------------\u001b[0m",
      "\u001b[1;31mNameError\u001b[0m                                 Traceback (most recent call last)",
      "\u001b[1;32mg:\\My Drive\\12. CODE\\MIT\\09-GoogleEarthEngine_master\\01-Load Image and Add a Layer.ipynb Cell 2'\u001b[0m in \u001b[0;36m<module>\u001b[1;34m\u001b[0m\n\u001b[0;32m      <a href='vscode-notebook-cell:/g%3A/My%20Drive/12.%20CODE/MIT/09-GoogleEarthEngine_master/01-Load%20Image%20and%20Add%20a%20Layer.ipynb#ch0000001?line=4'>5</a>\u001b[0m     folium\u001b[39m.\u001b[39mraster_layers\u001b[39m.\u001b[39mTileLayer(\n\u001b[0;32m      <a href='vscode-notebook-cell:/g%3A/My%20Drive/12.%20CODE/MIT/09-GoogleEarthEngine_master/01-Load%20Image%20and%20Add%20a%20Layer.ipynb#ch0000001?line=5'>6</a>\u001b[0m         tiles\u001b[39m=\u001b[39mmap_id_dict[\u001b[39m'\u001b[39m\u001b[39mtile_fetcher\u001b[39m\u001b[39m'\u001b[39m]\u001b[39m.\u001b[39murl_format,\n\u001b[0;32m      <a href='vscode-notebook-cell:/g%3A/My%20Drive/12.%20CODE/MIT/09-GoogleEarthEngine_master/01-Load%20Image%20and%20Add%20a%20Layer.ipynb#ch0000001?line=6'>7</a>\u001b[0m         attr\u001b[39m=\u001b[39m\u001b[39m'\u001b[39m\u001b[39mMap Data &copy; <a href=\u001b[39m\u001b[39m\"\u001b[39m\u001b[39mhttps://earthengine.google.com/\u001b[39m\u001b[39m\"\u001b[39m\u001b[39m>Google Earth Engine</a>\u001b[39m\u001b[39m'\u001b[39m,\n\u001b[1;32m   (...)\u001b[0m\n\u001b[0;32m     <a href='vscode-notebook-cell:/g%3A/My%20Drive/12.%20CODE/MIT/09-GoogleEarthEngine_master/01-Load%20Image%20and%20Add%20a%20Layer.ipynb#ch0000001?line=9'>10</a>\u001b[0m         control\u001b[39m=\u001b[39m\u001b[39mTrue\u001b[39;00m\n\u001b[0;32m     <a href='vscode-notebook-cell:/g%3A/My%20Drive/12.%20CODE/MIT/09-GoogleEarthEngine_master/01-Load%20Image%20and%20Add%20a%20Layer.ipynb#ch0000001?line=10'>11</a>\u001b[0m     )\u001b[39m.\u001b[39madd_to(\u001b[39mself\u001b[39m)\n\u001b[0;32m     <a href='vscode-notebook-cell:/g%3A/My%20Drive/12.%20CODE/MIT/09-GoogleEarthEngine_master/01-Load%20Image%20and%20Add%20a%20Layer.ipynb#ch0000001?line=13'>14</a>\u001b[0m \u001b[39m# Add EE drawing method to folium.\u001b[39;00m\n\u001b[1;32m---> <a href='vscode-notebook-cell:/g%3A/My%20Drive/12.%20CODE/MIT/09-GoogleEarthEngine_master/01-Load%20Image%20and%20Add%20a%20Layer.ipynb#ch0000001?line=14'>15</a>\u001b[0m folium\u001b[39m.\u001b[39mMap\u001b[39m.\u001b[39madd_ee_layer \u001b[39m=\u001b[39m add_ee_layer\n",
      "\u001b[1;31mNameError\u001b[0m: name 'folium' is not defined"
     ]
    }
   ],
   "source": [
    "\n",
    "# This is needed in python to add layers to Folium\n",
    "def add_ee_layer(self, ee_image_object, vis_params, name):\n",
    "    \"\"\"Adds a method for displaying Earth Engine image tiles to folium map.\"\"\"\n",
    "    map_id_dict = ee.Image(ee_image_object).getMapId(vis_params)\n",
    "    folium.raster_layers.TileLayer(\n",
    "        tiles=map_id_dict['tile_fetcher'].url_format,\n",
    "        attr='Map Data &copy; <a href=\"https://earthengine.google.com/\">Google Earth Engine</a>',\n",
    "        name=name,\n",
    "        overlay=True,\n",
    "        control=True\n",
    "    ).add_to(self)\n",
    "\n",
    "\n",
    "# Add EE drawing method to folium.\n",
    "folium.Map.add_ee_layer = add_ee_layer"
   ]
  },
  {
   "cell_type": "markdown",
   "metadata": {},
   "source": [
    "## In this example, band 'B5' is assigned to red, 'B4' is assigned to green, and 'B3' is assigned to blue."
   ]
  },
  {
   "cell_type": "code",
   "execution_count": 4,
   "metadata": {},
   "outputs": [
    {
     "data": {
      "text/html": [
       "<div style=\"width:100%;\"><div style=\"position:relative;width:100%;height:0;padding-bottom:60%;\"><span style=\"color:#565656\">Make this Notebook Trusted to load map: File -> Trust Notebook</span><iframe src=\"about:blank\" style=\"position:absolute;width:100%;height:100%;left:0;top:0;border:none !important;\" data-html=%3C%21DOCTYPE%20html%3E%0A%3Chead%3E%20%20%20%20%0A%20%20%20%20%3Cmeta%20http-equiv%3D%22content-type%22%20content%3D%22text/html%3B%20charset%3DUTF-8%22%20/%3E%0A%20%20%20%20%0A%20%20%20%20%20%20%20%20%3Cscript%3E%0A%20%20%20%20%20%20%20%20%20%20%20%20L_NO_TOUCH%20%3D%20false%3B%0A%20%20%20%20%20%20%20%20%20%20%20%20L_DISABLE_3D%20%3D%20false%3B%0A%20%20%20%20%20%20%20%20%3C/script%3E%0A%20%20%20%20%0A%20%20%20%20%3Cstyle%3Ehtml%2C%20body%20%7Bwidth%3A%20100%25%3Bheight%3A%20100%25%3Bmargin%3A%200%3Bpadding%3A%200%3B%7D%3C/style%3E%0A%20%20%20%20%3Cstyle%3E%23map%20%7Bposition%3Aabsolute%3Btop%3A0%3Bbottom%3A0%3Bright%3A0%3Bleft%3A0%3B%7D%3C/style%3E%0A%20%20%20%20%3Cscript%20src%3D%22https%3A//cdn.jsdelivr.net/npm/leaflet%401.6.0/dist/leaflet.js%22%3E%3C/script%3E%0A%20%20%20%20%3Cscript%20src%3D%22https%3A//code.jquery.com/jquery-1.12.4.min.js%22%3E%3C/script%3E%0A%20%20%20%20%3Cscript%20src%3D%22https%3A//maxcdn.bootstrapcdn.com/bootstrap/3.2.0/js/bootstrap.min.js%22%3E%3C/script%3E%0A%20%20%20%20%3Cscript%20src%3D%22https%3A//cdnjs.cloudflare.com/ajax/libs/Leaflet.awesome-markers/2.0.2/leaflet.awesome-markers.js%22%3E%3C/script%3E%0A%20%20%20%20%3Clink%20rel%3D%22stylesheet%22%20href%3D%22https%3A//cdn.jsdelivr.net/npm/leaflet%401.6.0/dist/leaflet.css%22/%3E%0A%20%20%20%20%3Clink%20rel%3D%22stylesheet%22%20href%3D%22https%3A//maxcdn.bootstrapcdn.com/bootstrap/3.2.0/css/bootstrap.min.css%22/%3E%0A%20%20%20%20%3Clink%20rel%3D%22stylesheet%22%20href%3D%22https%3A//maxcdn.bootstrapcdn.com/bootstrap/3.2.0/css/bootstrap-theme.min.css%22/%3E%0A%20%20%20%20%3Clink%20rel%3D%22stylesheet%22%20href%3D%22https%3A//maxcdn.bootstrapcdn.com/font-awesome/4.6.3/css/font-awesome.min.css%22/%3E%0A%20%20%20%20%3Clink%20rel%3D%22stylesheet%22%20href%3D%22https%3A//cdnjs.cloudflare.com/ajax/libs/Leaflet.awesome-markers/2.0.2/leaflet.awesome-markers.css%22/%3E%0A%20%20%20%20%3Clink%20rel%3D%22stylesheet%22%20href%3D%22https%3A//cdn.jsdelivr.net/gh/python-visualization/folium/folium/templates/leaflet.awesome.rotate.min.css%22/%3E%0A%20%20%20%20%0A%20%20%20%20%20%20%20%20%20%20%20%20%3Cmeta%20name%3D%22viewport%22%20content%3D%22width%3Ddevice-width%2C%0A%20%20%20%20%20%20%20%20%20%20%20%20%20%20%20%20initial-scale%3D1.0%2C%20maximum-scale%3D1.0%2C%20user-scalable%3Dno%22%20/%3E%0A%20%20%20%20%20%20%20%20%20%20%20%20%3Cstyle%3E%0A%20%20%20%20%20%20%20%20%20%20%20%20%20%20%20%20%23map_d12615065b80412fb3883d2cbc88801d%20%7B%0A%20%20%20%20%20%20%20%20%20%20%20%20%20%20%20%20%20%20%20%20position%3A%20relative%3B%0A%20%20%20%20%20%20%20%20%20%20%20%20%20%20%20%20%20%20%20%20width%3A%20100.0%25%3B%0A%20%20%20%20%20%20%20%20%20%20%20%20%20%20%20%20%20%20%20%20height%3A%20100.0%25%3B%0A%20%20%20%20%20%20%20%20%20%20%20%20%20%20%20%20%20%20%20%20left%3A%200.0%25%3B%0A%20%20%20%20%20%20%20%20%20%20%20%20%20%20%20%20%20%20%20%20top%3A%200.0%25%3B%0A%20%20%20%20%20%20%20%20%20%20%20%20%20%20%20%20%7D%0A%20%20%20%20%20%20%20%20%20%20%20%20%3C/style%3E%0A%20%20%20%20%20%20%20%20%0A%3C/head%3E%0A%3Cbody%3E%20%20%20%20%0A%20%20%20%20%0A%20%20%20%20%20%20%20%20%20%20%20%20%3Cdiv%20class%3D%22folium-map%22%20id%3D%22map_d12615065b80412fb3883d2cbc88801d%22%20%3E%3C/div%3E%0A%20%20%20%20%20%20%20%20%0A%3C/body%3E%0A%3Cscript%3E%20%20%20%20%0A%20%20%20%20%0A%20%20%20%20%20%20%20%20%20%20%20%20var%20map_d12615065b80412fb3883d2cbc88801d%20%3D%20L.map%28%0A%20%20%20%20%20%20%20%20%20%20%20%20%20%20%20%20%22map_d12615065b80412fb3883d2cbc88801d%22%2C%0A%20%20%20%20%20%20%20%20%20%20%20%20%20%20%20%20%7B%0A%20%20%20%20%20%20%20%20%20%20%20%20%20%20%20%20%20%20%20%20center%3A%20%5B37.501%2C%20-122.1899%5D%2C%0A%20%20%20%20%20%20%20%20%20%20%20%20%20%20%20%20%20%20%20%20crs%3A%20L.CRS.EPSG3857%2C%0A%20%20%20%20%20%20%20%20%20%20%20%20%20%20%20%20%20%20%20%20zoom%3A%2010%2C%0A%20%20%20%20%20%20%20%20%20%20%20%20%20%20%20%20%20%20%20%20zoomControl%3A%20true%2C%0A%20%20%20%20%20%20%20%20%20%20%20%20%20%20%20%20%20%20%20%20preferCanvas%3A%20false%2C%0A%20%20%20%20%20%20%20%20%20%20%20%20%20%20%20%20%7D%0A%20%20%20%20%20%20%20%20%20%20%20%20%29%3B%0A%0A%20%20%20%20%20%20%20%20%20%20%20%20%0A%0A%20%20%20%20%20%20%20%20%0A%20%20%20%20%0A%20%20%20%20%20%20%20%20%20%20%20%20var%20tile_layer_ce5f84effcb84a36945f1406cc53be3e%20%3D%20L.tileLayer%28%0A%20%20%20%20%20%20%20%20%20%20%20%20%20%20%20%20%22https%3A//%7Bs%7D.tile.openstreetmap.org/%7Bz%7D/%7Bx%7D/%7By%7D.png%22%2C%0A%20%20%20%20%20%20%20%20%20%20%20%20%20%20%20%20%7B%22attribution%22%3A%20%22Data%20by%20%5Cu0026copy%3B%20%5Cu003ca%20href%3D%5C%22http%3A//openstreetmap.org%5C%22%5Cu003eOpenStreetMap%5Cu003c/a%5Cu003e%2C%20under%20%5Cu003ca%20href%3D%5C%22http%3A//www.openstreetmap.org/copyright%5C%22%5Cu003eODbL%5Cu003c/a%5Cu003e.%22%2C%20%22detectRetina%22%3A%20false%2C%20%22maxNativeZoom%22%3A%2018%2C%20%22maxZoom%22%3A%2018%2C%20%22minZoom%22%3A%200%2C%20%22noWrap%22%3A%20false%2C%20%22opacity%22%3A%201%2C%20%22subdomains%22%3A%20%22abc%22%2C%20%22tms%22%3A%20false%7D%0A%20%20%20%20%20%20%20%20%20%20%20%20%29.addTo%28map_d12615065b80412fb3883d2cbc88801d%29%3B%0A%20%20%20%20%20%20%20%20%0A%20%20%20%20%0A%20%20%20%20%20%20%20%20%20%20%20%20var%20tile_layer_024aca8779164b54a8e1fa02495111ad%20%3D%20L.tileLayer%28%0A%20%20%20%20%20%20%20%20%20%20%20%20%20%20%20%20%22https%3A//earthengine.googleapis.com/v1alpha/projects/earthengine-legacy/maps/879e9785890c6d73c2fac792edde8f95-69ac54a73c213f9df7e75b0ce2f0e632/tiles/%7Bz%7D/%7Bx%7D/%7By%7D%22%2C%0A%20%20%20%20%20%20%20%20%20%20%20%20%20%20%20%20%7B%22attribution%22%3A%20%22Map%20Data%20%5Cu0026copy%3B%20%5Cu003ca%20href%3D%5C%22https%3A//earthengine.google.com/%5C%22%5Cu003eGoogle%20Earth%20Engine%5Cu003c/a%5Cu003e%22%2C%20%22detectRetina%22%3A%20false%2C%20%22maxNativeZoom%22%3A%2018%2C%20%22maxZoom%22%3A%2018%2C%20%22minZoom%22%3A%200%2C%20%22noWrap%22%3A%20false%2C%20%22opacity%22%3A%201%2C%20%22subdomains%22%3A%20%22abc%22%2C%20%22tms%22%3A%20false%7D%0A%20%20%20%20%20%20%20%20%20%20%20%20%29.addTo%28map_d12615065b80412fb3883d2cbc88801d%29%3B%0A%20%20%20%20%20%20%20%20%0A%3C/script%3E onload=\"this.contentDocument.open();this.contentDocument.write(    decodeURIComponent(this.getAttribute('data-html')));this.contentDocument.close();\" allowfullscreen webkitallowfullscreen mozallowfullscreen></iframe></div></div>"
      ],
      "text/plain": [
       "<folium.folium.Map at 0x7fdadba50100>"
      ]
     },
     "execution_count": 4,
     "metadata": {},
     "output_type": "execute_result"
    }
   ],
   "source": [
    "# get a LANDSAT image\n",
    "image = ee.Image('LANDSAT/LC08/C01/T1_TOA/LC08_044034_20140318');\n",
    "\n",
    "#Define the visualization parameters.\n",
    "vizParams = {\n",
    "  'bands': ['B5', 'B4', 'B3'],\n",
    "  'min': 0,\n",
    "  'max': 0.5,\n",
    "  'gamma': [0.95, 1.1, 1]\n",
    "};\n",
    "lat = 37.5010\n",
    "lon = -122.1899\n",
    "#Center the map and display the image.\n",
    "myMap = folium.Map(location=[lat, lon], zoom_start=10)\n",
    "myMap.add_ee_layer(image, vizParams, 'false color composite');\n",
    "myMap"
   ]
  }
 ],
 "metadata": {
  "interpreter": {
   "hash": "949777d72b0d2535278d3dc13498b2535136f6dfe0678499012e853ee9abcab1"
  },
  "kernelspec": {
   "display_name": "Python 3.9.0 64-bit",
   "language": "python",
   "name": "python3"
  },
  "language_info": {
   "codemirror_mode": {
    "name": "ipython",
    "version": 3
   },
   "file_extension": ".py",
   "mimetype": "text/x-python",
   "name": "python",
   "nbconvert_exporter": "python",
   "pygments_lexer": "ipython3",
   "version": "3.10.2"
  },
  "orig_nbformat": 4
 },
 "nbformat": 4,
 "nbformat_minor": 2
}
