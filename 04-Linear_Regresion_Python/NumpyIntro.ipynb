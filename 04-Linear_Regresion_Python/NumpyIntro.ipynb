{
  "cells": [
    {
      "cell_type": "markdown",
      "metadata": {
        "id": "view-in-github",
        "colab_type": "text"
      },
      "source": [
        "<a href=\"https://colab.research.google.com/github/Chilefase/Learning/blob/main/03-Python/NumpyIntro.ipynb\" target=\"_parent\"><img src=\"https://colab.research.google.com/assets/colab-badge.svg\" alt=\"Open In Colab\"/></a>"
      ]
    },
    {
      "cell_type": "markdown",
      "metadata": {
        "id": "o3dIXd1qA47R"
      },
      "source": [
        "import numpy as np "
      ]
    },
    {
      "cell_type": "markdown",
      "metadata": {
        "id": "Cbw0AeR2A47W"
      },
      "source": [
        "## Numpy library"
      ]
    },
    {
      "cell_type": "code",
      "source": [
        "#Test"
      ],
      "metadata": {
        "id": "A2RCOpQXBOcV"
      },
      "execution_count": 2,
      "outputs": []
    },
    {
      "cell_type": "code",
      "execution_count": 1,
      "metadata": {
        "id": "jkzTKoaDA47X",
        "outputId": "e905adf5-03f6-4ce7-f5b7-2c0755ee4d70",
        "colab": {
          "base_uri": "https://localhost:8080/",
          "height": 317
        }
      },
      "outputs": [
        {
          "output_type": "execute_result",
          "data": {
            "text/plain": [
              "(array([ 9.,  7.,  9., 12., 15., 12., 13., 11.,  7., 30.]),\n",
              " array([ 0,  1,  2,  3,  4,  5,  6,  7,  8,  9, 10]),\n",
              " <a list of 10 Patch objects>)"
            ]
          },
          "metadata": {},
          "execution_count": 1
        },
        {
          "output_type": "display_data",
          "data": {
            "image/png": "[encoded data removed]",
            "text/plain": [
              "<Figure size 432x288 with 1 Axes>"
            ]
          },
          "metadata": {
            "needs_background": "light"
          }
        }
      ],
      "source": [
        "import numpy as np\n",
        "import matplotlib.pyplot as plt\n",
        "a = np.random.choice(np.arange(0,100),1000)\n",
        "plt.hist(a,bins=np.arange(0,11,1))\n"
      ]
    },
    {
      "cell_type": "code",
      "execution_count": 2,
      "metadata": {
        "id": "Pyny544dA47a",
        "outputId": "f4d9468e-fbef-40a9-a1f6-b93b521c48b6",
        "colab": {
          "base_uri": "https://localhost:8080/",
          "height": 338
        }
      },
      "outputs": [
        {
          "output_type": "execute_result",
          "data": {
            "text/plain": [
              "(array([0.072, 0.056, 0.072, 0.096, 0.12 , 0.096, 0.104, 0.088, 0.056,\n",
              "        0.24 ]),\n",
              " array([ 0,  1,  2,  3,  4,  5,  6,  7,  8,  9, 10]),\n",
              " <a list of 10 Patch objects>)"
            ]
          },
          "metadata": {},
          "execution_count": 2
        },
        {
          "output_type": "display_data",
          "data": {
            "image/png": "[encoded data removed]",
            "text/plain": [
              "<Figure size 432x288 with 1 Axes>"
            ]
          },
          "metadata": {
            "needs_background": "light"
          }
        }
      ],
      "source": [
        "plt.hist(a,bins=np.arange(0,11,1),density=True)"
      ]
    },
    {
      "cell_type": "code",
      "execution_count": null,
      "metadata": {
        "id": "bOAWd78zA47b",
        "outputId": "1369618e-3f59-4cda-c91a-a2bbcd0645d0"
      },
      "outputs": [
        {
          "data": {
            "text/plain": [
              "(array([0.1682243 , 0.        , 0.14953271, 0.        , 0.24299065,\n",
              "        0.        , 0.1682243 , 0.        , 0.22429907, 0.        ,\n",
              "        0.09345794, 0.        , 0.22429907, 0.        , 0.20560748,\n",
              "        0.        , 0.24299065, 0.        , 0.11214953, 0.        ,\n",
              "        0.1682243 ]),\n",
              " array([ 0. ,  0.5,  1. ,  1.5,  2. ,  2.5,  3. ,  3.5,  4. ,  4.5,  5. ,\n",
              "         5.5,  6. ,  6.5,  7. ,  7.5,  8. ,  8.5,  9. ,  9.5, 10. , 10.5]),\n",
              " <BarContainer object of 21 artists>)"
            ]
          },
          "execution_count": 4,
          "metadata": {},
          "output_type": "execute_result"
        },
        {
          "data": {
            "image/png": "[encoded data removed]",
            "text/plain": [
              "<Figure size 432x288 with 1 Axes>"
            ]
          },
          "metadata": {
            "needs_background": "light"
          },
          "output_type": "display_data"
        }
      ],
      "source": [
        "#  Use Bins 1/2 wide - What does plot meean? \n",
        "plt.hist(a,bins=np.arange(0,11,0.5),density=True)"
      ]
    },
    {
      "cell_type": "code",
      "execution_count": null,
      "metadata": {
        "id": "GkW6bLoWA47c",
        "outputId": "b836fce6-fb89-456c-a3e7-ca5515d03cd1"
      },
      "outputs": [
        {
          "data": {
            "text/plain": [
              "[<matplotlib.lines.Line2D at 0x7fa944459550>]"
            ]
          },
          "execution_count": 6,
          "metadata": {},
          "output_type": "execute_result"
        },
        {
          "data": {
            "image/png": "[encoded data removed]",
            "text/plain": [
              "<Figure size 432x288 with 1 Axes>"
            ]
          },
          "metadata": {
            "needs_background": "light"
          },
          "output_type": "display_data"
        }
      ],
      "source": [
        "import numpy as np\n",
        "import matplotlib.pyplot as plt\n",
        "\n",
        "a = np.arange(0,10,0.1)\n",
        "y = np.sin(a)\n",
        "plt.plot(a,y)"
      ]
    },
    {
      "cell_type": "code",
      "execution_count": null,
      "metadata": {
        "id": "491sPfVcA47d"
      },
      "outputs": [],
      "source": [
        "# Data as sampling from an unseen population\n",
        "# Choose at random from 1 through 10 \n",
        "import numpy as np\n",
        "import matplotlib.pyplot as plt\n",
        "a = np.random.choice(np.arange(0,10),100)\n",
        "a = np.random.random(100)*10.0\n",
        "a\n",
        "\n"
      ]
    },
    {
      "cell_type": "code",
      "execution_count": null,
      "metadata": {
        "id": "alpawOU_A47e",
        "outputId": "2c21d2b1-2223-4352-f44c-c0118517cbeb"
      },
      "outputs": [
        {
          "data": {
            "text/plain": [
              "(array([0. , 0. , 0.1, 0.2, 0.2, 0.3, 0.1, 0.1, 0. , 0. ]),\n",
              " array([ 5,  6,  7,  8,  9, 10, 11, 12, 13, 14, 15]),\n",
              " <BarContainer object of 10 artists>)"
            ]
          },
          "execution_count": 7,
          "metadata": {},
          "output_type": "execute_result"
        },
        {
          "data": {
            "image/png": "[encoded data removed]",
            "text/plain": [
              "<Figure size 432x288 with 1 Axes>"
            ]
          },
          "metadata": {
            "needs_background": "light"
          },
          "output_type": "display_data"
        }
      ],
      "source": [
        "# Normal Data \n",
        "\n",
        "a = np.random.normal(10,2,10)\n",
        "plt.hist(a,bins=np.arange(5,16,1),density=True)\n",
        "#plt.scatter(np.arange(0,10),a)\n"
      ]
    },
    {
      "cell_type": "code",
      "execution_count": null,
      "metadata": {
        "id": "JGSts0iCA47f"
      },
      "outputs": [],
      "source": [
        "plt.hist(a,bins=np.arange(5,16,0.1), density=True)"
      ]
    },
    {
      "cell_type": "code",
      "execution_count": null,
      "metadata": {
        "id": "K6NrrkfPA47f"
      },
      "outputs": [],
      "source": [
        "plt.hist(a,bins=np.arange(5,16,1))"
      ]
    },
    {
      "cell_type": "code",
      "execution_count": null,
      "metadata": {
        "id": "yONmuDnQA47g"
      },
      "outputs": [],
      "source": [
        "import numpy as np\n",
        "import matplotlib.pyplot as plt\n",
        "a = np.random.normal(0,1,20)\n",
        "plt.hist(b, bins=np.arange(0,20,1), density = True)\n",
        "\n"
      ]
    },
    {
      "cell_type": "markdown",
      "metadata": {
        "id": "wunEk7S8A47g"
      },
      "source": [
        "## Exercise - Produce a 10x10 checkerboard of 1s and 0s"
      ]
    },
    {
      "cell_type": "code",
      "execution_count": null,
      "metadata": {
        "id": "kbYYlYVOA47h"
      },
      "outputs": [],
      "source": [
        "\n",
        "import numpy as np\n",
        "import seaborn as sns\n",
        "from matplotlib.colors import ListedColormap as lc\n",
        "Z = np.zeros((8,8),dtype=int)\n",
        "Z[1::2,::2] = 1\n",
        "Z[::2,1::2] = 1\n",
        "print(Z)\n",
        "sns.heatmap(Z, annot=True,linewidths=5,cbar=False)"
      ]
    },
    {
      "cell_type": "code",
      "execution_count": null,
      "metadata": {
        "id": "KlmL8K6cA47h"
      },
      "outputs": [],
      "source": [
        "import seaborn as sns\n",
        "sns.heatmap(Z, annot=True,linewidths=5,cbar=False)\n",
        "\n",
        "\n"
      ]
    },
    {
      "cell_type": "code",
      "execution_count": null,
      "metadata": {
        "id": "V-B6IL3wA47i"
      },
      "outputs": [],
      "source": [
        "import numpy as np\n",
        "import scipy as scipy\n",
        "from scipy.stats import norm\n",
        "\n",
        "plt.style.use('ggplot')\n",
        "fig, ax = plt.subplots()\n",
        "x= np.arange(34,40,0.01)\n",
        "y = np.random.normal(x)\n",
        "lines = ax.plot(x, norm.pdf(x,loc=37,scale=1))\n",
        "ax.set_ylim(0,0.45) # range\n",
        "\n",
        "ax.set_xlabel('x',fontsize=20) # set x label\n",
        "ax.set_ylabel('pdf(x)',fontsize=20,rotation=90) # set y label\n",
        "ax.xaxis.set_label_coords(0.55, -0.05) # x label coordinate\n",
        "ax.yaxis.set_label_coords(-0.1, 0.5) # y label coordinate\n",
        "px=np.arange(36,37,0.1)\n",
        "plt.fill_between(px,norm.pdf(px,loc=37,scale=1),color='r',alpha=0.5)\n",
        "plt.show()\n",
        "\n",
        "\n",
        "\n",
        "\n",
        "\n"
      ]
    },
    {
      "cell_type": "code",
      "execution_count": null,
      "metadata": {
        "id": "9A5gOu3FA47i"
      },
      "outputs": [],
      "source": [
        "a = np.random.normal(10,1,20)\n",
        "a"
      ]
    },
    {
      "cell_type": "markdown",
      "metadata": {
        "id": "yYYZiGy9A47i"
      },
      "source": [
        "## Calculate the mean and subtract the mean from each data value\n",
        "$$ "
      ]
    },
    {
      "cell_type": "code",
      "execution_count": null,
      "metadata": {
        "id": "npbCKWk9A47j"
      },
      "outputs": [],
      "source": [
        "from matplotlib import collections as matcoll\n",
        "Npoints = 20\n",
        "x = np.arange(0,Npoints)\n",
        "y = np.random.normal(loc=10, scale=2, size=Npoints )\n",
        "lines = []\n",
        "for i in range(Npoints):\n",
        "    pair=[(x[i],0), (x[i], y[i])]\n",
        "    lines.append(pair)\n",
        "linecoll = matcoll.LineCollection(lines)\n",
        "fig, ax = plt.subplots()\n",
        "ax.add_collection(linecoll)\n",
        "\n",
        "plt.scatter(x,y, marker='o', color='blue')\n",
        "plt.xticks(x)\n",
        "plt.ylim(0,40)\n",
        "plt.show()\n",
        "ylim=(0,10)\n"
      ]
    },
    {
      "cell_type": "markdown",
      "metadata": {
        "id": "CBE3KnmkA47j"
      },
      "source": [
        "### Numpy 2D Arrays\n"
      ]
    },
    {
      "cell_type": "code",
      "execution_count": null,
      "metadata": {
        "id": "zxjv0hzfA47j"
      },
      "outputs": [],
      "source": [
        "import numpy as np"
      ]
    },
    {
      "cell_type": "code",
      "execution_count": null,
      "metadata": {
        "id": "j-MkTXRuA47k"
      },
      "outputs": [],
      "source": [
        "# Numpy 2_D Arrays\n",
        "a = [0,1,2]\n",
        "b = [3,4,5]\n",
        "c = [6,7,8]\n",
        "z = [a, \n",
        "     b, \n",
        "     c]\n"
      ]
    },
    {
      "cell_type": "code",
      "execution_count": null,
      "metadata": {
        "id": "2KqxkgG0A47k"
      },
      "outputs": [],
      "source": [
        "a = np.arange(0,9)\n",
        "z = a.reshape(3,3)\n",
        "z\n"
      ]
    },
    {
      "cell_type": "code",
      "execution_count": null,
      "metadata": {
        "id": "CP0xTTY_A47k"
      },
      "outputs": [],
      "source": [
        "z[2,2]"
      ]
    },
    {
      "cell_type": "code",
      "execution_count": null,
      "metadata": {
        "id": "52Lv5OpXA47k"
      },
      "outputs": [],
      "source": [
        "z[0:3:2,0:3:2]"
      ]
    },
    {
      "cell_type": "markdown",
      "metadata": {
        "id": "dapcl1nvA47l"
      },
      "source": [
        "### Numpy Arrays "
      ]
    },
    {
      "cell_type": "markdown",
      "metadata": {
        "id": "9oWvYFITA47l"
      },
      "source": [
        "### Slices point back to the original array"
      ]
    },
    {
      "cell_type": "code",
      "execution_count": null,
      "metadata": {
        "id": "XaZ1ZF4iA47l"
      },
      "outputs": [],
      "source": [
        "import numpy as np\n",
        "\n",
        "a = np.ones(10)\n",
        "a[:] = 2\n",
        "b = a[0:2]   # View of a NOT a copy\n",
        "b[:] = 3\n",
        "b = a.copy()\n",
        "b[:] = 6\n",
        "print(id(a), id(b))\n",
        "\n",
        "mybool = a < 3\n",
        "c = a[a < 3]     # Conditionals \n",
        "c\n",
        "\n",
        "\n",
        "\n",
        "\n"
      ]
    },
    {
      "cell_type": "markdown",
      "metadata": {
        "id": "I9dphI7hA47l"
      },
      "source": [
        "### generate log normal dist and sample "
      ]
    },
    {
      "cell_type": "code",
      "execution_count": null,
      "metadata": {
        "id": "L8T9gCHSA47l"
      },
      "outputs": [],
      "source": [
        "import numpy as np\n",
        "import matplotlib.pyplot as plt\n",
        "mu, sigma = 3., 1. # mean and standard deviation\n",
        "s = np.random.lognormal(mu, sigma, 1000)\n",
        "plt.hist(s,bins=20)"
      ]
    },
    {
      "cell_type": "code",
      "execution_count": null,
      "metadata": {
        "id": "lGFQDxKgA47m"
      },
      "outputs": [],
      "source": [
        "means = []\n",
        "N = 100\n",
        "a = [5,20,50]\n",
        "fig, axs = plt.subplots(3)\n",
        "fig.suptitle('Sampling of a Log-Normal Distribution')\n",
        "fig.tight_layout()\n",
        "for k,N in enumerate(a):\n",
        "    for i in np.arange(1000):\n",
        "        means.append(np.random.choice(s,N).sum()/N)\n",
        "    axs[k].hist(means,bins=20)\n",
        "   \n"
      ]
    },
    {
      "cell_type": "code",
      "execution_count": null,
      "metadata": {
        "id": "tkPcs-ekA47m"
      },
      "outputs": [],
      "source": [
        "mu, sigma = 50., 1. # mean and standard deviation\n",
        "s = np.random.normal(mu, sigma, 1000)\n",
        "s = np.sort(s)\n",
        "means = []\n",
        "plt.plot(range(0,1000), (s - mu)/np.sqrt(sigma),'.')\n",
        "plt.title('Z-Score')\n",
        "N = 100\n",
        "a = [5,20,50]\n",
        "fig, axs = plt.subplots(3)\n",
        "fig.suptitle('Sampling of a Normal Distribution')\n",
        "fig.tight_layout()\n",
        "for k,N in enumerate(a):\n",
        "    for i in np.arange(1000):\n",
        "        means.append(np.random.choice(s,N).sum()/N)\n",
        "    axs[k].hist(var,bins=20)\n",
        "   \n"
      ]
    },
    {
      "cell_type": "markdown",
      "metadata": {
        "id": "-lnTH7bfA47m"
      },
      "source": [
        "$$\\sigma_{mean}^{2} =  \\frac{\\sigma_{pop}^{2}} {N}$$\n",
        "where N is sample size\n",
        "$$\\sigma_{mean} =  \\frac{\\sigma_{pop}} {\\sqrt{N}}$$"
      ]
    },
    {
      "cell_type": "code",
      "execution_count": null,
      "metadata": {
        "id": "dukgiMOJA47m"
      },
      "outputs": [],
      "source": [
        "import scipy.stats as stats\n",
        "\n",
        "s = np.random.randint(1,1000,1000)\n",
        "\n",
        "sampArr = np.arange(2,3,1)\n",
        "skip = 2\n",
        "fig, axes = plt.subplots(nrows=np.int((1+len(sampArr))/skip), ncols=skip)\n",
        "fig.suptitle('Sampling Mean of a Uniform Distribution')\n",
        "fig.set_size_inches(10, 10)\n",
        "fig.tight_layout()\n",
        "Nloop = 1000\n",
        "\n",
        "for k,S in enumerate(sampArr):   # choose number S in a sample\n",
        "    means = []    # fill this with Nloop samples\n",
        "    for i in np.arange(Nloop):\n",
        "        mean = np.random.choice(s,S).mean()\n",
        "        means.append(mean)\n",
        "    df = pd.DataFrame(means)\n",
        "    right = k%skip\n",
        "    row = np.int(k/skip)\n",
        "    \n",
        "    df.plot(ax=axes[row,right], kind = \"kde\")\n",
        "    axes[row,right].set_title(f'sample= {S}')\n",
        "\n"
      ]
    },
    {
      "cell_type": "code",
      "execution_count": null,
      "metadata": {
        "id": "Ji6luHScA47m"
      },
      "outputs": [],
      "source": [
        "import pandas as pd\n",
        "y = np.array([1,2,4,4,4,2,5,5,1])\n",
        "df = pd.DataFrame(y)\n",
        "df.plot()\n",
        "df.plot(kind = \"kde\")"
      ]
    },
    {
      "cell_type": "code",
      "execution_count": null,
      "metadata": {
        "id": "Bx1Q_hRMA47n"
      },
      "outputs": [],
      "source": [
        ""
      ]
    },
    {
      "cell_type": "code",
      "execution_count": null,
      "metadata": {
        "id": "9M_FGkQVA47n"
      },
      "outputs": [],
      "source": [
        ""
      ]
    }
  ],
  "metadata": {
    "kernelspec": {
      "display_name": "Python 3",
      "language": "python",
      "name": "python3"
    },
    "language_info": {
      "codemirror_mode": {
        "name": "ipython",
        "version": 3
      },
      "file_extension": ".py",
      "mimetype": "text/x-python",
      "name": "python",
      "nbconvert_exporter": "python",
      "pygments_lexer": "ipython3",
      "version": "3.9.0"
    },
    "colab": {
      "name": "NumpyIntro.ipynb",
      "provenance": [],
      "toc_visible": true,
      "include_colab_link": true
    },
    "accelerator": "GPU"
  },
  "nbformat": 4,
  "nbformat_minor": 0
}